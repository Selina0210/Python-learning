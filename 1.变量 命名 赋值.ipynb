{
 "cells": [
  {
   "cell_type": "markdown",
   "metadata": {},
   "source": [
    "\n",
    "# Python入门\n",
    "\n",
    "## 第一课\n",
    "- hello world\n",
    "- 变量命名\n",
    "- 关键词\n",
    "- 赋值\n",
    "- 输出换行\n",
    "- input函数\n",
    "\n",
    "\n",
    "  \n",
    "       "
   ]
  },
  {
   "cell_type": "code",
   "execution_count": 9,
   "metadata": {},
   "outputs": [
    {
     "name": "stdout",
     "output_type": "stream",
     "text": [
      "hello world!\n"
     ]
    }
   ],
   "source": [
    "print(\"hello world!\")"
   ]
  },
  {
   "cell_type": "markdown",
   "metadata": {},
   "source": [
    "# 变量\n",
    "\n",
    "## 变量命名\n",
    "\n",
    "- 大驼峰\n",
    "    - 每个单词第一个字母大写\n",
    "- 小驼峰\n",
    "    - 类似大驼峰，但是第一个单词首字母小写\n",
    "- POSIX写法\n",
    "    - 每个单词间以下划线连接\n",
    "    - 单词全部小写\n",
    "        "
   ]
  },
  {
   "cell_type": "code",
   "execution_count": 11,
   "metadata": {
    "scrolled": true
   },
   "outputs": [
    {
     "name": "stdout",
     "output_type": "stream",
     "text": [
      "['False', 'None', 'True', 'and', 'as', 'assert', 'break', 'class', 'continue', 'def', 'del', 'elif', 'else', 'except', 'finally', 'for', 'from', 'global', 'if', 'import', 'in', 'is', 'lambda', 'nonlocal', 'not', 'or', 'pass', 'raise', 'return', 'try', 'while', 'with', 'yield']\n"
     ]
    }
   ],
   "source": [
    "#查看关键词\n",
    "import keyword\n",
    "keyword.kwlist\n",
    "print(keyword.kwlist)"
   ]
  },
  {
   "cell_type": "code",
   "execution_count": null,
   "metadata": {},
   "outputs": [],
   "source": [
    "# 定义变量ａｇｅ，把１８放入变量ａｇｅ中\n",
    "age = 18\n",
    "print(age)\n",
    "print(18)\n",
    "\n",
    "# 给age1， age2， age3 放入同样一个内容或值\n",
    "age1 = age2 = age3 = 18\n",
    "print(age1)\n",
    "print(age2)\n",
    "print(age3)\n",
    "\n",
    "# 一行内给多个变量赋值\n",
    "age4, age5, age6 = 12, 21, 45\n",
    "print(age4)\n",
    "print(age5)\n",
    "print(age6)"
   ]
  },
  {
   "cell_type": "code",
   "execution_count": 20,
   "metadata": {
    "scrolled": true
   },
   "outputs": [
    {
     "name": "stdout",
     "output_type": "stream",
     "text": [
      "a=  23\n",
      "1\n",
      "2\n",
      "3\n"
     ]
    }
   ],
   "source": [
    "a=b=c=23\n",
    "print(\"a= \",a)\n",
    "\n",
    "d,e,f=1,2,3\n",
    "print(d)\n",
    "print(e)\n",
    "print(f)\n"
   ]
  },
  {
   "cell_type": "markdown",
   "metadata": {},
   "source": [
    "## Number数字类型\n",
    "- 数字类型没有大小限制\n",
    "### 整数\n",
    "- 没有小数部分，表示个数的数字\n",
    "- 自然数，0，负自然数\n",
    "- 整数分进制\n",
    "    - 二进制\n",
    "        - 计算机常用\n",
    "        - 是计算机唯一能直接理解的数字\n",
    "        - 表示为0b开头的0,1代码\n",
    "        - 例如 0b01101, 0b10001\n",
    "    - 八进制\n",
    "        - 不常用\n",
    "        - 以0o开头的包含0-7的数字\n",
    "    - 十六进制\n",
    "        - 缝16进1\n",
    "        - 其实是每四位二进制表示一位十六进制数\n",
    "        - 包含0-9， a-f\n",
    "        - 数字上以0x开头表示\n",
    "    - 十进制\n",
    "        - 18， 89， 178\n",
    " "
   ]
  },
  {
   "cell_type": "code",
   "execution_count": 1,
   "metadata": {},
   "outputs": [
    {
     "name": "stdout",
     "output_type": "stream",
     "text": [
      "18\n",
      "18\n",
      "66\n",
      "255\n"
     ]
    }
   ],
   "source": [
    "age = 18\n",
    "print(18)\n",
    "\n",
    "age = 0b10010\n",
    "print(age)\n",
    "\n",
    "age = 0o102\n",
    "print(age)\n",
    "\n",
    "age = 0xff #十六进制ff表示二进制的1111 1111\n",
    "print(age)"
   ]
  },
  {
   "cell_type": "markdown",
   "metadata": {},
   "source": [
    "浮点数\n",
    "小数\n",
    "计算机里边表示浮点数可以有条件省略\n",
    "3.1415\n",
    "3.\n",
    "0.5\n",
    ".5\n",
    "科学计数法\n",
    "定义跟数学定义\n",
    "写法是用e/E后面跟整数表示10的指数\n",
    "176.23 == 1.7634e2\n",
    "0.876 == 8.76e-1"
   ]
  },
  {
   "cell_type": "code",
   "execution_count": 2,
   "metadata": {},
   "outputs": [
    {
     "name": "stdout",
     "output_type": "stream",
     "text": [
      "156.34\n",
      "0.2\n",
      "0.6\n"
     ]
    }
   ],
   "source": [
    "height = 156.34\n",
    "print(height)\n",
    "\n",
    "shili = .2\n",
    "print(shili)\n",
    "\n",
    "shili = .6\n",
    "print(shili)"
   ]
  },
  {
   "cell_type": "code",
   "execution_count": 21,
   "metadata": {},
   "outputs": [
    {
     "name": "stdout",
     "output_type": "stream",
     "text": [
      "菩提本无树，\n",
      "明镜亦非台。\n",
      "本来无一物，何处惹尘埃。\n"
     ]
    }
   ],
   "source": [
    "print('菩提本无树，')\n",
    "print('明镜亦非台。')\n",
    "print('本来无一物，',end='')#不换行输出，后两行变一行\n",
    "print('何处惹尘埃。')"
   ]
  },
  {
   "cell_type": "code",
   "execution_count": 22,
   "metadata": {},
   "outputs": [
    {
     "name": "stdout",
     "output_type": "stream",
     "text": [
      "请输入你的名字：Selina\n",
      "你好！ Selina\n"
     ]
    }
   ],
   "source": [
    "uname = input('请输入你的名字：')\n",
    "print('你好！',uname)"
   ]
  }
 ],
 "metadata": {
  "kernelspec": {
   "display_name": "Python 3",
   "language": "python",
   "name": "python3"
  },
  "language_info": {
   "codemirror_mode": {
    "name": "ipython",
    "version": 3
   },
   "file_extension": ".py",
   "mimetype": "text/x-python",
   "name": "python",
   "nbconvert_exporter": "python",
   "pygments_lexer": "ipython3",
   "version": "3.6.5"
  }
 },
 "nbformat": 4,
 "nbformat_minor": 2
}
