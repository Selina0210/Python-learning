{
 "cells": [
  {
   "cell_type": "markdown",
   "metadata": {},
   "source": [
    "# 三大结构\n",
    "## 顺序\n",
    "## 分支\n",
    "## 循环\n"
   ]
  },
  {
   "cell_type": "markdown",
   "metadata": {},
   "source": [
    "# 分支\n",
    "## if语句\n",
    "\n",
    "    if 条件表达式：\n",
    "        语句一\n",
    "        语句二\n",
    "        语句三\n",
    "        。。。\n",
    "\n",
    "- 条件表达式就是计算结果必须为布尔值的表达式\n",
    "- 表达式后面的冒号不能少\n",
    "- 注意if后面的出现的语句，如果属于if语句块，则必须同一个缩进等级\n",
    "- 条件表达式结果为True执行if后面的缩进的语句块"
   ]
  },
  {
   "cell_type": "code",
   "execution_count": 4,
   "metadata": {},
   "outputs": [
    {
     "name": "stdout",
     "output_type": "stream",
     "text": [
      "小仙女\n",
      "18\n",
      "gwy\n",
      "16\n",
      "go out\n"
     ]
    }
   ],
   "source": [
    "#if语句练习\n",
    "age=16\n",
    "if age<18:\n",
    "    print('小仙女')\n",
    "    print('18')\n",
    "    \n",
    "print('gwy')\n",
    "a=16\n",
    "print(a)\n",
    "print('go out')\n",
    "#if后的表达式为真，则执行if后缩进的语句块，为假不执行，直接跳至下一句\n",
    "#此处不像C语言的if else，不考虑else的情况，下一句print为新的语句"
   ]
  },
  {
   "cell_type": "markdown",
   "metadata": {},
   "source": [
    "# 双向分支\n",
    "## if...else...语句\n",
    "      \n",
    "      if 条件表达式:\n",
    "            语句1\n",
    "            语句2\n",
    "            ...\n",
    "        else:\n",
    "            语句1\n",
    "            语句2\n",
    "            .....\n",
    "            \n",
    "- 双向分支有两个分支，当程序执行到if ... else...语句的时候，一定会执行if或else中的一个，也仅执行一个\n",
    "- 缩进问题，if和else一个层级，其余语句一个层级            \n",
    "            "
   ]
  },
  {
   "cell_type": "code",
   "execution_count": null,
   "metadata": {},
   "outputs": [],
   "source": []
  },
  {
   "cell_type": "code",
   "execution_count": 23,
   "metadata": {},
   "outputs": [
    {
     "name": "stdout",
     "output_type": "stream",
     "text": [
      "请输入性别：nan\n",
      "你输入的性别是：nan\n",
      "你输入的性别是：nan\n",
      "来，我们纪念一下今天吧，代码敲十遍\n",
      "开始上课喽\n"
     ]
    }
   ],
   "source": [
    "# input的作用是\n",
    "# 1. 在屏幕上输出括号内的字符串\n",
    "# 2. 接受用户输入的内容并返回到程序\n",
    "# 3. input返回的内容一定是字符串类型\n",
    "gender = input(\"请输入性别：\")\n",
    "print(\"你输入的性别是：{0}\".format(gender))\n",
    "print(\"你输入的性别是：%s\"%gender)  #用%s占位，而后跟上%gender\n",
    "\n",
    "if  gender == \"nan\":\n",
    "    print(\"来，我们纪念一下今天吧，代码敲十遍\")\n",
    "else:\n",
    "    print(\"发糖喽发糖喽\")\n",
    "    print(\"你是女生，特殊照顾喽\")\n",
    "        \n",
    "print(\"开始上课喽\")"
   ]
  },
  {
   "cell_type": "code",
   "execution_count": 24,
   "metadata": {},
   "outputs": [
    {
     "name": "stdout",
     "output_type": "stream",
     "text": [
      "请输入学生成绩：88\n",
      "B\n"
     ]
    }
   ],
   "source": [
    "# 考试成绩判断\n",
    "# 90以上： 输出优秀\n",
    "# 80-90：良\n",
    "# 70-80：中\n",
    "# 60-70：平\n",
    "# 60以下： 输出：我没你这撒学僧\n",
    "\n",
    "# score  存放学生成绩\n",
    "# 注意input的返回值类型，input返回值为str，字符串格式！注意！！！\n",
    "\n",
    "score = input(\"请输入学生成绩：\")\n",
    "# 需要把str转换成int\n",
    "score = int(score)\n",
    "\n",
    "if score>=90:\n",
    "    print(\"A\")\n",
    "if score>= 80  & score<90:\n",
    "    print(\"B\")\n",
    "if score >= 70 and score<80:\n",
    "    print(\"C\")\n",
    "if score >=60 and score<70:\n",
    "    print(\"D\")\n",
    "if score < 60:\n",
    "    print(\"起开，我没你这撒学僧\")\n",
    "    "
   ]
  },
  {
   "cell_type": "markdown",
   "metadata": {},
   "source": [
    "# 多路分支\n",
    "## if...elif...else语句\n",
    "- 很多分支的情况，简称多路分支\n",
    "\n",
    "        if  条件表达式：\n",
    "            语句1\n",
    "            ....\n",
    "        elif 条件表达式：\n",
    "            语句1\n",
    "            ...\n",
    "        elif 条件表达式：\n",
    "            语句1\n",
    "            ...\n",
    "            \n",
    "        .....\n",
    "        else:\n",
    "            语句1\n",
    "            ....\n",
    "            \n",
    "- elif 可以由很多个\n",
    "- else可选\n",
    "- 多路分支只会选一个执行"
   ]
  },
  {
   "cell_type": "code",
   "execution_count": 7,
   "metadata": {},
   "outputs": [
    {
     "name": "stdout",
     "output_type": "stream",
     "text": [
      "请输入学生成绩：77\n",
      "C\n"
     ]
    }
   ],
   "source": [
    "score = input(\"请输入学生成绩：\")\n",
    "# 需要把str转换成int\n",
    "score = int(score)\n",
    "\n",
    "if score>=90:\n",
    "    print(\"A\")\n",
    "elif score>= 80:\n",
    "    print(\"B\")\n",
    "elif score >= 70:\n",
    "    print(\"C\")\n",
    "elif score >=60:\n",
    "    print(\"D\")\n",
    "else:\n",
    "  ##  score < 60:\n",
    "    print(\"起开，我没你这撒学僧\")\n",
    "    "
   ]
  },
  {
   "cell_type": "markdown",
   "metadata": {},
   "source": [
    "## if语句其他：\n",
    "- if语句可以嵌套使用，但不推荐\n",
    "- python没有switch-case语句"
   ]
  }
 ],
 "metadata": {
  "kernelspec": {
   "display_name": "Python 3",
   "language": "python",
   "name": "python3"
  },
  "language_info": {
   "codemirror_mode": {
    "name": "ipython",
    "version": 3
   },
   "file_extension": ".py",
   "mimetype": "text/x-python",
   "name": "python",
   "nbconvert_exporter": "python",
   "pygments_lexer": "ipython3",
   "version": "3.6.5"
  }
 },
 "nbformat": 4,
 "nbformat_minor": 2
}
