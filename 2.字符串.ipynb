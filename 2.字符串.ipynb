{
 "cells": [
  {
   "cell_type": "markdown",
   "metadata": {},
   "source": [
    "# 字符串定义"
   ]
  },
  {
   "cell_type": "code",
   "execution_count": 1,
   "metadata": {},
   "outputs": [
    {
     "name": "stdout",
     "output_type": "stream",
     "text": [
      "i love lixiaojing\n"
     ]
    }
   ],
   "source": [
    "#单双引号内表示字符串\n",
    "s = \"i love lixiaojing\"\n",
    "print(s)"
   ]
  },
  {
   "cell_type": "code",
   "execution_count": 15,
   "metadata": {},
   "outputs": [
    {
     "name": "stdout",
     "output_type": "stream",
     "text": [
      "i love \n",
      "\r",
      " lixiaojing\n"
     ]
    }
   ],
   "source": [
    "#注意反斜杠，可能代表转义字符\n",
    "s = \"i love \\n lixiaojing\"\n",
    "print(s)"
   ]
  },
  {
   "cell_type": "code",
   "execution_count": 7,
   "metadata": {},
   "outputs": [
    {
     "name": "stdout",
     "output_type": "stream",
     "text": [
      "let\\s go\n"
     ]
    }
   ],
   "source": [
    "s=\"let\\'s go\"\n",
    "print(s)\n"
   ]
  },
  {
   "cell_type": "code",
   "execution_count": null,
   "metadata": {},
   "outputs": [],
   "source": [
    "ss='c:\\\\user'\n",
    "print(ss)"
   ]
  },
  {
   "cell_type": "markdown",
   "metadata": {},
   "source": [
    "# 字符串格式化\n",
    "##  %格式\n",
    "##  format函数\n"
   ]
  },
  {
   "cell_type": "code",
   "execution_count": 34,
   "metadata": {},
   "outputs": [
    {
     "name": "stdout",
     "output_type": "stream",
     "text": [
      "name: guanwenyu\n",
      "I Love guanwneyu\n",
      "%s is %d years old\n",
      "selina is 18 years old\n"
     ]
    }
   ],
   "source": [
    "s='guanwenyu'\n",
    "print('name: %s'%s)  #需要在赋值的字符串前加%,%s用来占位\n",
    "\n",
    "ss='I Love %s'\n",
    "print(ss %'guanwneyu')\n",
    "\n",
    "a='%s is %d years old'\n",
    "print(a)\n",
    "print(a%('selina',18)) #有几个%占位，后面就要给几个对应值，%（），赋值写在括号中"
   ]
  },
  {
   "cell_type": "code",
   "execution_count": 35,
   "metadata": {},
   "outputs": [
    {
     "name": "stdout",
     "output_type": "stream",
     "text": [
      "I love LiXiaojing\n",
      "Yes, i am 18 years old, I love Tulingxueyuan and i am 18 years old\n"
     ]
    }
   ],
   "source": [
    "s = \"I love {}\".format(\"LiXiaojing\") #{}占位，在format函数中写所要赋值的内容\n",
    "print(s)\n",
    "\n",
    "s = \"Yes, i am {1} years old, I love {0} and i am {1} years old\".format(\"Tulingxueyuan\", 18) #占位{}中的数字表示顺序，0、1、2.。。，在format函数中依次写\n",
    "print(s)"
   ]
  },
  {
   "cell_type": "code",
   "execution_count": 38,
   "metadata": {},
   "outputs": [
    {
     "name": "stdout",
     "output_type": "stream",
     "text": [
      "81\n",
      "False\n"
     ]
    }
   ],
   "source": [
    "a=3**4\n",
    "b=80\n",
    "print(a==b)"
   ]
  },
  {
   "cell_type": "code",
   "execution_count": 39,
   "metadata": {},
   "outputs": [
    {
     "name": "stdout",
     "output_type": "stream",
     "text": [
      "False\n",
      "True\n",
      "False\n"
     ]
    }
   ],
   "source": [
    "l = [1,2,3,4,5]\n",
    "a = 7\n",
    "\n",
    "b = a in l\n",
    "print(b)\n",
    "\n",
    "a = 4\n",
    "print(a in l)\n",
    "\n",
    "print(a not in l)\n"
   ]
  },
  {
   "cell_type": "code",
   "execution_count": 40,
   "metadata": {},
   "outputs": [
    {
     "name": "stdout",
     "output_type": "stream",
     "text": [
      "True\n",
      "False\n"
     ]
    }
   ],
   "source": [
    "a = 9\n",
    "b = 9\n",
    "print( a is b)\n",
    "\n",
    "a = \"I love wangxiaojing\"\n",
    "b = \"I love wangxiaojing\"\n",
    "print( a is b)"
   ]
  }
 ],
 "metadata": {
  "kernelspec": {
   "display_name": "Python 3",
   "language": "python",
   "name": "python3"
  },
  "language_info": {
   "codemirror_mode": {
    "name": "ipython",
    "version": 3
   },
   "file_extension": ".py",
   "mimetype": "text/x-python",
   "name": "python",
   "nbconvert_exporter": "python",
   "pygments_lexer": "ipython3",
   "version": "3.6.5"
  }
 },
 "nbformat": 4,
 "nbformat_minor": 2
}
