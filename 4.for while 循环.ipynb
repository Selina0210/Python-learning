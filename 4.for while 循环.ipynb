{
 "cells": [
  {
   "cell_type": "markdown",
   "metadata": {},
   "source": [
    "# 循环语句\n",
    "- 重复执行某些固定动作或者处理基本固定的事物\n",
    "- 分类\n",
    "    - for循环\n",
    "    - while循环\n",
    "    \n",
    "# for循环\n",
    "- for循环，\n",
    "## 注意序列后的冒号！！！\n",
    "    \n",
    "        for 变量 in 序列：\n",
    "            语句1\n",
    "            语句2\n",
    "            ...\n",
    " "
   ]
  },
  {
   "cell_type": "code",
   "execution_count": null,
   "metadata": {},
   "outputs": [],
   "source": [
    "# 列表就是一列数字或者其他值，一般用中括号表示\n",
    "# 例如  ['zhangsan', 'lisi', 'wangwu','jingjing']\n",
    "\n",
    "# 打印学生列表姓名\n",
    "for name in  ['zhangsan', 'lisi', 'wangwu','jingjing']:\n",
    "    print(name)"
   ]
  },
  {
   "cell_type": "code",
   "execution_count": 1,
   "metadata": {},
   "outputs": [
    {
     "name": "stdout",
     "output_type": "stream",
     "text": [
      "zhangsan\n",
      "同学我们不约，不约，同学请自重\n",
      "lisi\n",
      "同学我们不约，不约，同学请自重\n",
      "wangwu\n",
      "同学我们不约，不约，同学请自重\n",
      "jingjing\n",
      "我的最爱jingjing出现了\n"
     ]
    }
   ],
   "source": [
    "# 打印学生列表姓名\n",
    "# 如果是jingjign，那肯定是我的最爱呀，\n",
    "# 如果是别的学生，那要冷酷的拒绝他\n",
    "for name in  ['zhangsan', 'lisi', 'wangwu','jingjing']:\n",
    "    print(name)\n",
    "    if name == \"jingjing\":\n",
    "        print(\"我的最爱{0}出现了\".format(name))\n",
    "    else:\n",
    "        print(\"同学我们不约，不约，同学请自重\")"
   ]
  },
  {
   "cell_type": "markdown",
   "metadata": {},
   "source": [
    "## range介绍\n",
    "- 生成一个数字序列\n",
    "- 具体范围可以设定"
   ]
  },
  {
   "cell_type": "code",
   "execution_count": 5,
   "metadata": {},
   "outputs": [
    {
     "name": "stdout",
     "output_type": "stream",
     "text": [
      "1\n",
      "2\n",
      "3\n",
      "4\n",
      "5\n",
      "6\n",
      "7\n",
      "8\n",
      "9\n",
      "10\n"
     ]
    }
   ],
   "source": [
    "# range练习\n",
    "# 打印从1-10的数字\n",
    "# 注意，一般在python中，如果由表示数字范围的两个数，一般是包含左边数字不包含右边数字\n",
    "# randint是特例，他左右都包含\n",
    "# range函数在python2 和 python3中有严重区别\n",
    "for i in range(1,11):\n",
    "    print(i) "
   ]
  },
  {
   "cell_type": "markdown",
   "metadata": {},
   "source": [
    "## for-else语句\n",
    "-  当for循环结束的时候，会执行else语句\n",
    "- else语句是可选语句"
   ]
  },
  {
   "cell_type": "code",
   "execution_count": 11,
   "metadata": {},
   "outputs": [
    {
     "name": "stdout",
     "output_type": "stream",
     "text": [
      "zhangsan\n",
      "同学我们不约，不约，同学请自重\n",
      "lisi\n",
      "同学我们不约，不约，同学请自重\n",
      "wangwu\n",
      "同学我们不约，不约，同学请自重\n",
      "jingjing\n",
      "我的最爱jingjing出现了\n",
      "别的都不是我的学生，不会再爱了\n"
     ]
    }
   ],
   "source": [
    "# for-else语句\n",
    "# 打印列表中的同学，\n",
    "# 如果没有在列表中，或者列表结束了，我们需要打印提示语句，表示不在爱了\n",
    "\n",
    "# 打印学生列表姓名\n",
    "# 如果是jingjign，那肯定是我的最爱呀，\n",
    "# 如果是别的学生，那要冷酷的拒绝他\n",
    "for name in  ['zhangsan', 'lisi', 'wangwu','jingjing']:\n",
    "    print(name)\n",
    "    if name == \"jingjing\":\n",
    "        print(\"我的最爱{0}出现了\".format(name))\n",
    "    else:\n",
    "        print(\"同学我们不约，不约，同学请自重\")\n",
    "else:\n",
    "    print(\"别的都不是我的学生，不会再爱了\")\n",
    "   "
   ]
  },
  {
   "cell_type": "markdown",
   "metadata": {},
   "source": [
    "## 循环之break,contineu,pass\n",
    "- break： 无条件结束整个循环，简称循环猝死\n",
    "- continue：无条件结束本次循环，从新进入下一轮循环\n",
    "- pass：表示略过，通常用于站位"
   ]
  },
  {
   "cell_type": "code",
   "execution_count": 13,
   "metadata": {},
   "outputs": [
    {
     "name": "stdout",
     "output_type": "stream",
     "text": [
      "1\n",
      "2\n",
      "3\n",
      "4\n",
      "5\n",
      "6\n",
      "我找到了\n"
     ]
    }
   ],
   "source": [
    "# 在数字1-10中，寻找数字7，一旦找到，打印出来，其余则什么都不做\n",
    "# for 循环中的变量表示，一般用i，k，m，n，或者indx，idx，item之类\n",
    "# 在python中，如果循环变量名称不重要，可以用下划线（_)代替\n",
    "\n",
    "for i in range(1,11):\n",
    "    if i == 7:\n",
    "        print(\"我找到了\")\n",
    "        break\n",
    "    else:\n",
    "        print(i)"
   ]
  },
  {
   "cell_type": "code",
   "execution_count": 14,
   "metadata": {},
   "outputs": [
    {
     "name": "stdout",
     "output_type": "stream",
     "text": [
      "2 是偶数\n",
      "4 是偶数\n",
      "6 是偶数\n",
      "8 是偶数\n",
      "10 是偶数\n"
     ]
    }
   ],
   "source": [
    "# continue语句联系\n",
    "# 在数字1-10中，寻找所有偶数，找到偶数后打印偶数\n",
    "\n",
    "for i in range(1,11):\n",
    "    if i % 2 == 1:\n",
    "        continue\n",
    "    else:\n",
    "        print(\"{0} 是偶数\".format(i))"
   ]
  },
  {
   "cell_type": "code",
   "execution_count": 15,
   "metadata": {},
   "outputs": [
    {
     "name": "stdout",
     "output_type": "stream",
     "text": [
      "2 是偶数\n",
      "4 是偶数\n",
      "6 是偶数\n",
      "8 是偶数\n",
      "10 是偶数\n"
     ]
    }
   ],
   "source": [
    "# continue语句 版本 2\n",
    "# 在数字1-10中，寻找所有偶数，找到偶数后打印偶数\n",
    "\n",
    "for i in range(1,11):\n",
    "    if i % 2 == 0:\n",
    "        print(\"{0} 是偶数\".format(i))"
   ]
  },
  {
   "cell_type": "code",
   "execution_count": 16,
   "metadata": {},
   "outputs": [
    {
     "name": "stdout",
     "output_type": "stream",
     "text": [
      "2 是偶数\n",
      "4 是偶数\n",
      "6 是偶数\n",
      "8 是偶数\n",
      "10 是偶数\n"
     ]
    }
   ],
   "source": [
    "# continue语句 版本 2\n",
    "# 在数字1-10中，寻找所有偶数，找到偶数后打印偶数\n",
    "# 本案例完整显示continue的用法和作用\n",
    "for i in range(1,11):\n",
    "    if i % 2 == 1:\n",
    "        continue\n",
    "        \n",
    "    print(\"{0} 是偶数\".format(i))"
   ]
  },
  {
   "cell_type": "code",
   "execution_count": null,
   "metadata": {},
   "outputs": [],
   "source": [
    "# pass例子，一般用于占位\n",
    "# pass没有跳过功能\n",
    "\n",
    "for i in range(1,11):\n",
    "    pass\n",
    "    print(\"wo zai zheli\")"
   ]
  },
  {
   "cell_type": "markdown",
   "metadata": {},
   "source": [
    "# while循环\n",
    "- 一个循环语句\n",
    "- 表示当某条件成立的时候，就循环\n",
    "- 不知道具体循环次数，但能确定循环的成立条件的时候用while循环\n",
    "- while语法：\n",
    "    \n",
    "        while 条件表达式：\n",
    "            语句块\n",
    "            \n",
    "        #另外一种表达方法\n",
    "        while  条件表达式：\n",
    "            语句块1\n",
    "        else：\n",
    "            语句块2"
   ]
  },
  {
   "cell_type": "code",
   "execution_count": 17,
   "metadata": {},
   "outputs": [
    {
     "name": "stdout",
     "output_type": "stream",
     "text": [
      "第 1 年拿了 106700.0 块钱\n",
      "第 2 年拿了 113848.9 块钱\n",
      "第 3 年拿了 121476.77629999998 块钱\n",
      "第 4 年拿了 129615.72031209998 块钱\n",
      "第 5 年拿了 138299.97357301068 块钱\n",
      "第 6 年拿了 147566.07180240238 块钱\n",
      "第 7 年拿了 157452.99861316333 块钱\n",
      "第 8 年拿了 168002.34952024528 块钱\n",
      "第 9 年拿了 179258.5069381017 块钱\n",
      "第 10 年拿了 191268.8269029545 块钱\n",
      "第 11 年拿了 204083.83830545243 块钱\n"
     ]
    }
   ],
   "source": [
    "# 如果说年利率是6.7%，本利是每年翻滚， 则多少年后本钱会翻倍\n",
    "\n",
    "benqian = 100000\n",
    "year = 0\n",
    "while benqian < 200000:\n",
    "    benqian = benqian * (1+0.067)\n",
    "    year += 1 # year = year + 1\n",
    "    print(\"第 {0} 年拿了 {1} 块钱\".format(year, benqian))"
   ]
  },
  {
   "cell_type": "code",
   "execution_count": 18,
   "metadata": {},
   "outputs": [
    {
     "name": "stdout",
     "output_type": "stream",
     "text": [
      "第 1 年拿了 106700.0 块钱\n",
      "第 2 年拿了 113848.9 块钱\n",
      "第 3 年拿了 121476.77629999998 块钱\n",
      "第 4 年拿了 129615.72031209998 块钱\n",
      "第 5 年拿了 138299.97357301068 块钱\n",
      "第 6 年拿了 147566.07180240238 块钱\n",
      "第 7 年拿了 157452.99861316333 块钱\n",
      "第 8 年拿了 168002.34952024528 块钱\n",
      "第 9 年拿了 179258.5069381017 块钱\n",
      "第 10 年拿了 191268.8269029545 块钱\n",
      "第 11 年拿了 204083.83830545243 块钱\n",
      "大爷的，终于翻倍了，10多年呀\n",
      "当年10万可以盖个房子，现在儿子结婚，20万可以给他盖个厨房了\n"
     ]
    }
   ],
   "source": [
    "# 如果说年利率是6.7%，本利是每年翻滚， 则多少年后本钱会翻倍\n",
    "# 如果拿到的钱翻倍，则用print庆祝一下\n",
    "benqian = 100000\n",
    "year = 0\n",
    "while benqian < 200000:\n",
    "    benqian = benqian * (1+0.067)\n",
    "    year += 1 # year = year + 1\n",
    "    print(\"第 {0} 年拿了 {1} 块钱\".format(year, benqian))\n",
    "else:\n",
    "    print(\"大爷的，终于翻倍了，10多年呀\")\n",
    "    print(\"当年10万可以盖个房子，现在儿子结婚，20万可以给他盖个厨房了\")"
   ]
  }
 ],
 "metadata": {
  "kernelspec": {
   "display_name": "Python 3",
   "language": "python",
   "name": "python3"
  },
  "language_info": {
   "codemirror_mode": {
    "name": "ipython",
    "version": 3
   },
   "file_extension": ".py",
   "mimetype": "text/x-python",
   "name": "python",
   "nbconvert_exporter": "python",
   "pygments_lexer": "ipython3",
   "version": "3.6.5"
  }
 },
 "nbformat": 4,
 "nbformat_minor": 2
}
